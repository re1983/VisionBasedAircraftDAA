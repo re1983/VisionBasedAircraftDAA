{
 "cells": [
  {
   "cell_type": "code",
   "execution_count": 40,
   "id": "72fa9482",
   "metadata": {},
   "outputs": [
    {
     "name": "stdout",
     "output_type": "stream",
     "text": [
      "['/mnt/c/Users/X-Plane/Desktop/VisionBasedAircraftDAA/src/data_generation',\n",
      " '/usr/lib/python38.zip',\n",
      " '/usr/lib/python3.8',\n",
      " '/usr/lib/python3.8/lib-dynload',\n",
      " '',\n",
      " '/home/elysiaqs/.local/lib/python3.8/site-packages',\n",
      " '/usr/local/lib/python3.8/dist-packages',\n",
      " '/usr/lib/python3/dist-packages',\n",
      " '..',\n",
      " '..',\n",
      " '..',\n",
      " '..',\n",
      " '..']\n",
      "Collecting scipy\n",
      "  Downloading scipy-1.9.2-cp38-cp38-manylinux_2_17_x86_64.manylinux2014_x86_64.whl (33.8 MB)\n",
      "\u001b[K     |████████████████████████████████| 33.8 MB 6.3 MB/s eta 0:00:01\n",
      "\u001b[?25hRequirement already satisfied: numpy<1.26.0,>=1.18.5 in /home/elysiaqs/.local/lib/python3.8/site-packages (from scipy) (1.23.3)\n",
      "Installing collected packages: scipy\n",
      "Successfully installed scipy-1.9.2\n"
     ]
    }
   ],
   "source": [
    "import sys\n",
    "import pprint\n",
    "pprint.pprint(sys.path)\n",
    "sys.path.append(\"..\")\n",
    "\n",
    "!pip install scipy"
   ]
  },
  {
   "cell_type": "code",
   "execution_count": 41,
   "id": "a9c074f8",
   "metadata": {},
   "outputs": [],
   "source": [
    "from xpc3 import *\n",
    "from xpc3_helper import *\n",
    "from data_generation.generate_traffic_data import set_position\n",
    "import numpy as np\n",
    "import pymap3d as pm"
   ]
  },
  {
   "cell_type": "code",
   "execution_count": 47,
   "id": "00dc7525",
   "metadata": {},
   "outputs": [
    {
     "name": "stdout",
     "output_type": "stream",
     "text": [
      "<socket.socket fd=55, family=AddressFamily.AF_INET, type=SocketKind.SOCK_DGRAM, proto=17, laddr=('0.0.0.0', 40082)>\n"
     ]
    }
   ],
   "source": [
    "client = XPlaneConnect()\n",
    "client.pauseSim(True)\n",
    "client.sendDREF(\"sim/operation/override/override_joystick\", 1)"
   ]
  },
  {
   "cell_type": "code",
   "execution_count": 48,
   "id": "7457ab4e",
   "metadata": {},
   "outputs": [],
   "source": [
    "import ipywidgets as widgets\n",
    "from ipywidgets import interact"
   ]
  },
  {
   "cell_type": "code",
   "execution_count": 49,
   "id": "b17dcf17",
   "metadata": {},
   "outputs": [],
   "source": [
    "def interact_position(e0, n0, u0, h0, e1, n1, u1, h1):\n",
    "    set_position(client, 0, e0, n0, u0, h0)\n",
    "    set_position(client, 1, e1, n1, u1, h1)"
   ]
  },
  {
   "cell_type": "code",
   "execution_count": 50,
   "id": "63e3da51",
   "metadata": {},
   "outputs": [
    {
     "data": {
      "application/vnd.jupyter.widget-view+json": {
       "model_id": "faec7bb847494606a51966e001e5066c",
       "version_major": 2,
       "version_minor": 0
      },
      "text/plain": [
       "interactive(children=(FloatSlider(value=0.0, description='e0', max=5000.0, min=-5000.0, step=500.0), FloatSlid…"
      ]
     },
     "metadata": {},
     "output_type": "display_data"
    },
    {
     "data": {
      "text/plain": [
       "<function __main__.interact_position(e0, n0, u0, h0, e1, n1, u1, h1)>"
      ]
     },
     "execution_count": 50,
     "metadata": {},
     "output_type": "execute_result"
    }
   ],
   "source": [
    "interact(interact_position,\n",
    "         e0=widgets.FloatSlider(min=-5000.0, max=5000.0,\n",
    "                                step=500, description='e0'),\n",
    "         n0=widgets.FloatSlider(min=-5000.0, max=5000.0,\n",
    "                                step=500, description='n0'),\n",
    "         u0=widgets.FloatSlider(min=-500.0, max=500.0,\n",
    "                                step=25, description='u0'),\n",
    "         h0=widgets.FloatSlider(min=0.0, max=360.0, step=30, description='h0'),\n",
    "         e1=widgets.FloatSlider(min=-2000.0, max=2000.0,\n",
    "                                step=10, description='e1'),\n",
    "         n1=widgets.FloatSlider(min=-2000.0, max=2000.0,\n",
    "                                step=10, description='n1'),\n",
    "         u1=widgets.FloatSlider(min=-300.0, max=300.0,\n",
    "                                step=5, description='u1'),\n",
    "         h1=widgets.FloatSlider(min=0.0, max=360.0, step=30, description='h1'))"
   ]
  },
  {
   "cell_type": "code",
   "execution_count": 2,
   "id": "922706a5",
   "metadata": {},
   "outputs": [],
   "source": [
    "from PIL import Image\n",
    "\n",
    "import numpy as np\n",
    "import time\n",
    "\n",
    "import matplotlib.pyplot as plt\n",
    "\n",
    "import mss\n",
    "import cv2\n",
    "import os"
   ]
  },
  {
   "cell_type": "code",
   "execution_count": 6,
   "id": "74b177ec",
   "metadata": {},
   "outputs": [],
   "source": [
    "os.environ['DISPLAY'] = \":0\""
   ]
  },
  {
   "cell_type": "code",
   "execution_count": null,
   "id": "68419029",
   "metadata": {},
   "outputs": [],
   "source": [
    "screenShot = mss.mss()"
   ]
  },
  {
   "cell_type": "code",
   "execution_count": 3,
   "id": "48cc95bd",
   "metadata": {},
   "outputs": [
    {
     "ename": "NameError",
     "evalue": "name 'screenShot' is not defined",
     "output_type": "error",
     "traceback": [
      "\u001b[0;31m---------------------------------------------------------------------------\u001b[0m",
      "\u001b[0;31mNameError\u001b[0m                                 Traceback (most recent call last)",
      "Cell \u001b[0;32mIn [3], line 2\u001b[0m\n\u001b[1;32m      1\u001b[0m time\u001b[38;5;241m.\u001b[39msleep(\u001b[38;5;241m2\u001b[39m)\n\u001b[0;32m----> 2\u001b[0m ss1 \u001b[38;5;241m=\u001b[39m np\u001b[38;5;241m.\u001b[39marray(screenShot\u001b[38;5;241m.\u001b[39mgrab(mss\u001b[38;5;241m.\u001b[39mmonitors[\u001b[38;5;241m0\u001b[39m]))\n\u001b[1;32m      3\u001b[0m ss \u001b[38;5;241m=\u001b[39m cv2\u001b[38;5;241m.\u001b[39mcvtColor(np\u001b[38;5;241m.\u001b[39marray(screenShot\u001b[38;5;241m.\u001b[39mgrab(\n\u001b[1;32m      4\u001b[0m     screenShot\u001b[38;5;241m.\u001b[39mmonitors[\u001b[38;5;241m0\u001b[39m])), cv2\u001b[38;5;241m.\u001b[39mCOLOR_BGRA2BGR)[\u001b[38;5;241m12\u001b[39m:\u001b[38;5;241m-\u001b[39m\u001b[38;5;241m12\u001b[39m, :, ::\u001b[38;5;241m-\u001b[39m\u001b[38;5;241m1\u001b[39m]\n",
      "\u001b[0;31mNameError\u001b[0m: name 'screenShot' is not defined"
     ]
    }
   ],
   "source": [
    "time.sleep(2)\n",
    "ss1 = np.array(screenShot.grab(mss.monitors[0]))\n",
    "ss = cv2.cvtColor(np.array(screenShot.grab(\n",
    "    screenShot.monitors[0])), cv2.COLOR_BGRA2BGR)[12:-12, :, ::-1]"
   ]
  },
  {
   "cell_type": "code",
   "execution_count": null,
   "id": "458af340",
   "metadata": {},
   "outputs": [],
   "source": [
    "ss.shape\n"
   ]
  },
  {
   "cell_type": "code",
   "execution_count": null,
   "id": "6203c225",
   "metadata": {},
   "outputs": [],
   "source": [
    "plt.imshow(ss)\n"
   ]
  }
 ],
 "metadata": {
  "kernelspec": {
   "display_name": "Python 3 (ipykernel)",
   "language": "python",
   "name": "python3"
  },
  "language_info": {
   "codemirror_mode": {
    "name": "ipython",
    "version": 3
   },
   "file_extension": ".py",
   "mimetype": "text/x-python",
   "name": "python",
   "nbconvert_exporter": "python",
   "pygments_lexer": "ipython3",
   "version": "3.8.10"
  }
 },
 "nbformat": 4,
 "nbformat_minor": 5
}

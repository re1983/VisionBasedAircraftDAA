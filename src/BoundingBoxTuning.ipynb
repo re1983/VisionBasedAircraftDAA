{
 "cells": [
  {
   "cell_type": "code",
   "execution_count": 127,
   "id": "a4fe16e7",
   "metadata": {},
   "outputs": [],
   "source": [
    "import ipywidgets as widgets\n",
    "from ipywidgets import interact\n",
    "import pandas as pd\n",
    "import numpy as np\n",
    "import matplotlib.pyplot as plt\n",
    "import matplotlib.patches as patches\n",
    "import cv2\n",
    "from mpl_toolkits.axes_grid1 import ImageGrid\n",
    "import json"
   ]
  },
  {
   "cell_type": "code",
   "execution_count": 128,
   "id": "06983be6",
   "metadata": {},
   "outputs": [],
   "source": [
    "def cosd(x):\n",
    "    return np.cos(x * np.pi / 180)\n",
    "\n",
    "def sind(x):\n",
    "    return np.sin(x * np.pi / 180)\n",
    "\n",
    "def tand(x):\n",
    "    return np.tan(x * np.pi / 180)"
   ]
  },
  {
   "cell_type": "code",
   "execution_count": 133,
   "id": "a4c93295",
   "metadata": {},
   "outputs": [
    {
     "name": "stdout",
     "output_type": "stream",
     "text": [
      "2560\n"
     ]
    }
   ],
   "source": [
    "df = pd.read_csv('../datasets/state_data.csv')\n",
    "sh, sw, _ = cv2.imread('../datasets/imgs/0.jpg').shape\n",
    "print(sw)\n",
    "data_ims = np.zeros((50, sh, sw, 3), dtype=int)\n",
    "# load hfov and vfov\n",
    "with open('metadata.json','r') as datafile:\n",
    "    metadata = json.load(datafile)\n",
    "hfov = metadata[\"hfov\"]\n",
    "vfov = metadata[\"vfov\"]\n",
    "for i in range(10):\n",
    "    data_ims[i, :, :, :] = np.array(cv2.cvtColor(cv2.imread(\n",
    "        '../datasets/imgs/' + str(i) + '.jpg'), cv2.COLOR_BGRA2BGR)[:, :, ::-1])"
   ]
  },
  {
   "cell_type": "code",
   "execution_count": 130,
   "id": "a51b809b",
   "metadata": {},
   "outputs": [],
   "source": [
    "def get_bounding_box(r, hang, vang, tilt=0, offset=0, aw0=0, daw=1):\n",
    "    h_frac = hang / hfov # percentage from center\n",
    "    v_frac = vang / vfov * -1\n",
    "    x_p = (sw/2) * h_frac # pixels from center\n",
    "    y_p = (sh/2) * v_frac\n",
    "    x_p += sw/2\n",
    "    y_p += sh/2\n",
    "    print(f\"{h_frac}, {v_frac}, {x_p}, {y_p}\")\n",
    "    \n",
    "    return x_p, y_p, 50, 50\n",
    "    \n",
    "\n",
    "def get_bounding_box2(e0, n0, u0, h0, e1, n1, u1, p0, tilt=0, hfov=80, vfov=50.25, offset=0, aw0=0, daw=1):\n",
    "\n",
    "    # Make ownship be the origin\n",
    "    x = n1 - n0\n",
    "    y = -(e1 - e0) # right-handed coordinates\n",
    "    z = u1 - u0\n",
    "\n",
    "    # Rotate x and y according to ownship heading\n",
    "    xrot = x * cosd(h0) - y * sind(h0)\n",
    "    yrot = -(x * sind(h0) + y * cosd(h0))\n",
    "\n",
    "    # Account for offset\n",
    "    z = z + offset\n",
    "\n",
    "    # Rotate z according to tilt angle\n",
    "    xcam = xrot * cosd(tilt) - z * sind(tilt)\n",
    "    ycam = yrot\n",
    "    zcam = xrot * sind(tilt) + z * cosd(tilt)\n",
    "\n",
    "    # https://www.youtube.com/watch?v=LhQ85bPCAJ8\n",
    "    xp = ycam / (xcam * tand(hfov / 2))\n",
    "    yp = zcam / (xcam * tand(vfov / 2))\n",
    "\n",
    "    # Get xp and yp between 0 and 1\n",
    "    xp = (xp + 1) / 2\n",
    "    yp = (yp + 1) / 2\n",
    "\n",
    "    # Map to pixel location\n",
    "    xp = xp * sw\n",
    "    yp = (1 - yp) * sh\n",
    "\n",
    "    # Get height and width of bounding box\n",
    "    r = np.sqrt(x ** 2 + y ** 2 + z ** 2)\n",
    "    w = daw * (1 / r) + aw0\n",
    "    h = (3 / 8) * w\n",
    "\n",
    "    # print(r)\n",
    "    print(f\"{xp}, {yp}, {w}, {h}\")\n",
    "    return xp, yp, w, h"
   ]
  },
  {
   "cell_type": "code",
   "execution_count": 131,
   "id": "f17187e6",
   "metadata": {},
   "outputs": [],
   "source": [
    "def show_img_w_bb(im, xp, yp, w, h):\n",
    "    f, ax = plt.subplots()\n",
    "    f.set_figwidth(14)\n",
    "    f.set_figheight(14)\n",
    "\n",
    "    ax.imshow(im)\n",
    "\n",
    "    rect = patches.Rectangle((xp - (w / 2), yp - (h / 2)), w, h, linewidth=1, edgecolor='r', facecolor='none')\n",
    "    ax.add_patch(rect)"
   ]
  },
  {
   "cell_type": "code",
   "execution_count": 134,
   "id": "06b7f568",
   "metadata": {
    "scrolled": false
   },
   "outputs": [
    {
     "data": {
      "application/vnd.jupyter.widget-view+json": {
       "model_id": "2df3954d62f3437fa23f27b0fe5b07cb",
       "version_major": 2,
       "version_minor": 0
      },
      "text/plain": [
       "interactive(children=(IntText(value=0, description='i'), FloatSlider(value=0.0, description='aw0', max=10.0, m…"
      ]
     },
     "metadata": {},
     "output_type": "display_data"
    },
    {
     "data": {
      "text/plain": [
       "<function __main__.data_interact_bb(i, aw0, daw, hfov, vfov, offset, tilt)>"
      ]
     },
     "execution_count": 134,
     "metadata": {},
     "output_type": "execute_result"
    }
   ],
   "source": [
    "def data_interact_bb(i, aw0, daw, hfov, vfov, offset, tilt):\n",
    "    #xp, yp, w, h = get_bounding_box(df['e0'][i], df['n0'][i], df['u0'][i], df['h0'][i], df['e1'][i],\n",
    "                                    #df['n1'][i], df['u1'][i], df['p0'][i], aw0=aw0, daw=daw, hfov=hfov, vfov=vfov, offset=offset, tilt=tilt)\n",
    "    #xp, yp, w, h = get_bounding_box(df['vang'][i], df['hang'][i])\n",
    "    xp, yp, w, h = get_bounding_box(df['z'][i], df['hang'][i], df['vang'][i])\n",
    "    \n",
    "    #xp, yp, w, h = get_bounding_box2(df['z'][i], df['e0'][i], df['n0'][i], df['u0'][i], df['h0'][i], df['p0'][i], df['r0'][i], df['e1'][i], df['n1'][i], df['u1'][i])\n",
    "    #xp, yp, w, h = get_bounding_box3(df['vang'][i], df['hang'][i])\n",
    "    #print(w)\n",
    "    # print(h)\n",
    "    show_img_w_bb(data_ims[i, :, :, :], xp, yp, w, h)\n",
    "\n",
    "interact(data_interact_bb,\n",
    "         aw0=widgets.FloatSlider(min=-10, max=10, step=1, value=0),\n",
    "         daw=widgets.FloatSlider(min=13000, max=18000, step=200, value=17000),\n",
    "         hfov=widgets.FloatText(value=56.5),\n",
    "         vfov=widgets.FloatText(value=51.5),\n",
    "         offset=widgets.FloatSlider(min=-10, max=10, step=0.25, value=0),\n",
    "         tilt=widgets.FloatText(value=5),\n",
    "         i=widgets.IntText(value=0))"
   ]
  },
  {
   "cell_type": "code",
   "execution_count": 92,
   "id": "fb58a05f",
   "metadata": {},
   "outputs": [],
   "source": [
    "def show_imgs_w_bbs(im_inds, grid_dims=(3, 3), figsize=(18., 12.), hfov=90, vfov=45, offset=0, tilt=10, daw=15200, aw0=0):\n",
    "    fig = plt.figure(figsize=figsize)\n",
    "\n",
    "    grid = ImageGrid(fig, 111,  # similar to subplot(111)\n",
    "                     nrows_ncols=grid_dims,  # creates 2x2 grid of axes\n",
    "                     axes_pad=0.1,  # pad between axes in inch.\n",
    "                     )\n",
    "\n",
    "    for (i, ax) in zip(im_inds, grid):\n",
    "        ax.imshow(im_inds[i,:,:,:])\n",
    "        xp, yp, w, h = get_bounding_box(df['e0'][i], df['n0'][i], df['u0'][i], df['h0'][i], df['e1'][i],\n",
    "                                        df['n1'][i], df['u1'][i], aw0=aw0, daw=daw, hfov=hfov, vfov=vfov, offset=offset, tilt=tilt)\n",
    "        rect = patches.Rectangle(\n",
    "            (xp - (w / 2), yp - (h / 2)), w, h, linewidth=1, edgecolor='r', facecolor='none')\n",
    "        ax.add_patch(rect)"
   ]
  },
  {
   "cell_type": "code",
   "execution_count": null,
   "id": "ea8db5e0",
   "metadata": {},
   "outputs": [
    {
     "data": {
      "image/png": "[encoded data removed]",
      "text/plain": [
       "<Figure size 1800x1200 with 18 Axes>"
      ]
     },
     "metadata": {},
     "output_type": "display_data"
    },
    {
     "data": {
      "application/vnd.jupyter.widget-view+json": {
       "model_id": "9bf26048ffb648968d0b6095343ab298",
       "version_major": 2,
       "version_minor": 0
      },
      "text/plain": [
       "interactive(children=(IntText(value=0, description='i'), FloatSlider(value=0.0, description='aw0', max=10.0, m…"
      ]
     },
     "metadata": {},
     "output_type": "display_data"
    },
    {
     "data": {
      "text/plain": [
       "<function __main__.data_interact_bb(i, aw0, daw, hfov, vfov, offset, tilt)>"
      ]
     },
     "execution_count": 199,
     "metadata": {},
     "output_type": "execute_result"
    }
   ],
   "source": [
    "def data_interact_bb(i, aw0, daw, hfov, vfov, offset, tilt):\n",
    "    show_imgs_w_bbs(data_ims)\n",
    "\n",
    "interact(data_interact_bb,\n",
    "         aw0=widgets.FloatSlider(min=-10, max=10, step=1, value=0),\n",
    "         daw=widgets.FloatSlider(min=13000, max=18000, step=200, value=17000),\n",
    "         hfov=widgets.FloatSlider(min=78, max=82, step=0.2, value=80),\n",
    "         vfov=widgets.FloatSlider(min=40, max=52, step=0.25, value=50.75),\n",
    "         offset=widgets.FloatSlider(min=-10, max=10, step=0.25, value=0),\n",
    "         tilt=widgets.FloatSlider(min=-2, max=0, step=0.05, value=-1.25),\n",
    "         i=widgets.IntText(value=0))"
   ]
  },
  {
   "cell_type": "code",
   "execution_count": null,
   "id": "86fed7d4",
   "metadata": {},
   "outputs": [],
   "source": []
  },
  {
   "cell_type": "code",
   "execution_count": null,
   "id": "eb0ab5bb",
   "metadata": {},
   "outputs": [],
   "source": []
  }
 ],
 "metadata": {
  "kernelspec": {
   "display_name": "Python 3 (ipykernel)",
   "language": "python",
   "name": "python3"
  },
  "language_info": {
   "codemirror_mode": {
    "name": "ipython",
    "version": 3
   },
   "file_extension": ".py",
   "mimetype": "text/x-python",
   "name": "python",
   "nbconvert_exporter": "python",
   "pygments_lexer": "ipython3",
   "version": "3.8.10"
  },
  "vscode": {
   "interpreter": {
    "hash": "369f2c481f4da34e4445cda3fffd2e751bd1c4d706f27375911949ba6bb62e1c"
   }
  }
 },
 "nbformat": 4,
 "nbformat_minor": 5
}

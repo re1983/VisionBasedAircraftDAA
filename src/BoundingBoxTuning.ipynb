{
 "cells": [
  {
   "cell_type": "markdown",
   "id": "9de6c623",
   "metadata": {},
   "source": [
    "# Visual DAA Bounding Box Tuning\n",
    "## Setup"
   ]
  },
  {
   "cell_type": "code",
   "execution_count": 2,
   "id": "a4fe16e7",
   "metadata": {},
   "outputs": [],
   "source": [
    "import ipywidgets as widgets\n",
    "from ipywidgets import interact\n",
    "import pandas as pd\n",
    "import numpy as np\n",
    "import matplotlib.pyplot as plt\n",
    "import matplotlib.patches as patches\n",
    "import cv2\n",
    "from mpl_toolkits.axes_grid1 import ImageGrid\n",
    "import json"
   ]
  },
  {
   "cell_type": "code",
   "execution_count": 4,
   "id": "e676c0fa",
   "metadata": {},
   "outputs": [],
   "source": [
    "# USER-INPUTED\n",
    "DATASET_NAME = \"data_1667851795.19949\"\n",
    "\n",
    "# CONSTANTS\n",
    "DATADIR = \"../datasets/\" + DATASET_NAME + \"/\""
   ]
  },
  {
   "cell_type": "markdown",
   "id": "d2e9c859",
   "metadata": {},
   "source": [
    "#### Data and Image Import"
   ]
  },
  {
   "cell_type": "code",
   "execution_count": 10,
   "id": "a4c93295",
   "metadata": {},
   "outputs": [],
   "source": [
    "df = pd.read_csv(DATADIR + 'state_data.csv')\n",
    "sh, sw, _ = cv2.imread(DATADIR + 'train/images/0.jpg').shape\n",
    "data_ims = np.zeros((10, sh, sw, 3), dtype=int)\n",
    "meta_file = DATADIR + \"metadata.json\"\n",
    "with open(meta_file, \"r\") as outfile:\n",
    "    metadata = json.load(outfile)\n",
    "        \n",
    "image_dir = DATADIR + 'train/images/'\n",
    "for i in range(metadata['num_train'] + metadata['num_valid']):\n",
    "    if i == metadata['num_train']: image_dir = DATADIR + 'valid/images/'\n",
    "    data_ims[i, :, :, :] = np.array(cv2.cvtColor(cv2.imread(\n",
    "        image_dir + str(i) + '.jpg'), cv2.COLOR_BGRA2BGR)[:, :, ::-1])"
   ]
  },
  {
   "cell_type": "markdown",
   "id": "20a6dae3",
   "metadata": {},
   "source": [
    "#### Utility Functions"
   ]
  },
  {
   "cell_type": "code",
   "execution_count": 6,
   "id": "a51b809b",
   "metadata": {},
   "outputs": [],
   "source": [
    "def get_bb_size(e0, n0, u0, e1, n1, u1, aw0=0, daw=1):\n",
    "    x = n1 - n0\n",
    "    y = -(e1 - e0) # right-handed coordinates\n",
    "    z = u1 - u0\n",
    "    \n",
    "    # Get height and width of bounding box\n",
    "    r = np.sqrt(x ** 2 + y ** 2 + z ** 2)\n",
    "    w = daw * (1 / r) + aw0\n",
    "    h = (3 / 8) * w\n",
    "    return h, w"
   ]
  },
  {
   "cell_type": "code",
   "execution_count": 7,
   "id": "f17187e6",
   "metadata": {},
   "outputs": [],
   "source": [
    "def show_img_w_bb(im, xp, yp, w, h):\n",
    "    f, ax = plt.subplots()\n",
    "    f.set_figwidth(14)\n",
    "    f.set_figheight(14)\n",
    "\n",
    "    ax.imshow(im)\n",
    "\n",
    "    rect = patches.Rectangle((xp - (w / 2), yp - (h / 2)), w, h, linewidth=1, edgecolor='r', facecolor='none')\n",
    "    ax.add_patch(rect)"
   ]
  },
  {
   "cell_type": "markdown",
   "id": "9c06bd8b",
   "metadata": {},
   "source": [
    "## View and Tune Bounding Boxes\n",
    "- aw0 and daw tune the size of the bounding box\n",
    "- offset is a vertical offset"
   ]
  },
  {
   "cell_type": "code",
   "execution_count": 11,
   "id": "06b7f568",
   "metadata": {
    "scrolled": false
   },
   "outputs": [
    {
     "data": {
      "application/vnd.jupyter.widget-view+json": {
       "model_id": "e1125622d43c40a1a3f3bd26136990ff",
       "version_major": 2,
       "version_minor": 0
      },
      "text/plain": [
       "interactive(children=(IntText(value=0, description='i'), FloatSlider(value=0.0, description='aw0', max=10.0, m…"
      ]
     },
     "metadata": {},
     "output_type": "display_data"
    },
    {
     "data": {
      "text/plain": [
       "<function __main__.data_interact_bb(i, aw0, daw, offset)>"
      ]
     },
     "execution_count": 11,
     "metadata": {},
     "output_type": "execute_result"
    }
   ],
   "source": [
    "def data_interact_bb(i, aw0, daw, offset):\n",
    "    xp, yp = df['intr_x'][i], df['intr_y'][i]+offset\n",
    "    h, w = get_bb_size(df['e0'][i], df['n0'][i], df['u0'][i], df['e1'][i], df['n1'][i], df['u1'][i], aw0=aw0, daw=daw)\n",
    "    show_img_w_bb(data_ims[i, :, :, :], xp, yp, w, h)\n",
    "\n",
    "interact(data_interact_bb,\n",
    "         aw0=widgets.FloatSlider(min=-10, max=10, step=1, value=0),\n",
    "         daw=widgets.FloatSlider(min=13000, max=20000, step=200, value=20000),\n",
    "         offset=widgets.FloatSlider(min=-100, max=100, step=1, value=0),\n",
    "         i=widgets.IntText(value=0))"
   ]
  },
  {
   "cell_type": "markdown",
   "id": "8b4346bf",
   "metadata": {},
   "source": [
    "#### View Multiple at a Time"
   ]
  },
  {
   "cell_type": "code",
   "execution_count": 43,
   "id": "1cd8872d",
   "metadata": {},
   "outputs": [
    {
     "data": {
      "application/vnd.jupyter.widget-view+json": {
       "model_id": "0a0f4b7a6b8b44e5ab9936bd58c2973e",
       "version_major": 2,
       "version_minor": 0
      },
      "text/plain": [
       "interactive(children=(FloatSlider(value=0.0, description='aw0', max=10.0, min=-10.0, step=1.0), FloatSlider(va…"
      ]
     },
     "metadata": {},
     "output_type": "display_data"
    },
    {
     "data": {
      "text/plain": [
       "<function __main__.show_imgs_w_bbs(aw0=0, daw=1)>"
      ]
     },
     "execution_count": 43,
     "metadata": {},
     "output_type": "execute_result"
    }
   ],
   "source": [
    "def show_imgs_w_bbs(aw0=0, daw=1):\n",
    "    fig = plt.figure(figsize=(18,12))\n",
    "\n",
    "    grid = ImageGrid(fig, 111,  # similar to subplot(111)\n",
    "                     nrows_ncols=(3,3),  # creates 2x2 grid of axes\n",
    "                     axes_pad=0.1,  # pad between axes in inch.\n",
    "                     )\n",
    "\n",
    "    for (i, ax) in enumerate(grid):\n",
    "        xp, yp = df['intr_x'][i], df['intr_y'][i]\n",
    "        h, w = get_bb_size(df['e0'][i], df['n0'][i], df['u0'][i], df['e1'][i], df['n1'][i], df['u1'][i], aw0=aw0, daw=daw)\n",
    "\n",
    "        ax.imshow(data_ims[i])\n",
    "\n",
    "        #rect = patches.Rectangle((xp - (w / 2), yp - (h / 2)), 10, 10, linewidth=1, edgecolor='r', facecolor='none')\n",
    "        rect = patches.Rectangle((xp,yp), 10, 10, linewidth=1, edgecolor='r', facecolor='none')\n",
    "        ax.add_patch(rect)\n",
    "        \n",
    "interact(show_imgs_w_bbs,\n",
    "         aw0=widgets.FloatSlider(min=-10, max=10, step=1, value=0),\n",
    "         daw=widgets.FloatSlider(min=13000, max=30000, step=200, value=20000),\n",
    "         offset=widgets.FloatSlider(min=-100, max=100, step=1, value=0),\n",
    "         i=widgets.IntText(value=0))\n"
   ]
  },
  {
   "cell_type": "markdown",
   "id": "337a6096",
   "metadata": {},
   "source": [
    "## Check Results of label_traffic_data"
   ]
  },
  {
   "cell_type": "code",
   "execution_count": 36,
   "id": "14644f5f",
   "metadata": {},
   "outputs": [],
   "source": [
    "sh, sw, _ = cv2.imread(DATADIR + 'train/images/0.jpg').shape\n",
    "data_ims = np.zeros((10, sh, sw, 3), dtype=int)\n",
    "meta_file = DATADIR + \"metadata.json\"\n",
    "with open(meta_file, \"r\") as outfile:\n",
    "    metadata = json.load(outfile)\n",
    "    \n",
    "num_train = metadata['num_train']\n",
    "num_valid = metadata['num_valid']\n",
    "data_dir = DATADIR + 'train/'\n",
    "\n",
    "for i in range(metadata['num_train'] + metadata['num_valid']):\n",
    "    if i == metadata['num_train']: data_dir = DATADIR + 'valid/'\n",
    "    data_ims[i, :, :, :] = np.array(cv2.cvtColor(cv2.imread(\n",
    "        data_dir + \"images/\" + str(i) + '.jpg'), cv2.COLOR_BGRA2BGR)[:, :, ::-1])\n",
    "    "
   ]
  },
  {
   "cell_type": "code",
   "execution_count": 38,
   "id": "1072da1a",
   "metadata": {},
   "outputs": [
    {
     "data": {
      "application/vnd.jupyter.widget-view+json": {
       "model_id": "acf0239434244a369d915cebc8b1bb04",
       "version_major": 2,
       "version_minor": 0
      },
      "text/plain": [
       "interactive(children=(IntText(value=0, description='i'), Output()), _dom_classes=('widget-interact',))"
      ]
     },
     "metadata": {},
     "output_type": "display_data"
    },
    {
     "data": {
      "text/plain": [
       "<function __main__.display_yolo_data(i)>"
      ]
     },
     "execution_count": 38,
     "metadata": {},
     "output_type": "execute_result"
    }
   ],
   "source": [
    "def display_yolo_data(i):\n",
    "    if i >= num_train:\n",
    "        path = DATADIR + 'valid/labels/' + str(i) + '.txt'\n",
    "    else:\n",
    "        path = DATADIR + 'train/labels/' + str(i) + '.txt'\n",
    "    \n",
    "    with open(path, \"r\") as labelfile:\n",
    "        data = labelfile.readline().split(\" \")\n",
    "    \n",
    "    _, xcenter, ycenter, width, height = [float(d) for d in data]\n",
    "    width *= sw \n",
    "    xcenter *= sw\n",
    "    height *= sh\n",
    "    ycenter *= sh\n",
    "    show_img_w_bb(data_ims[i, :, :, :], xcenter, ycenter, width, height)\n",
    "    \n",
    "interact(display_yolo_data, i=widgets.IntText(value=0))"
   ]
  }
 ],
 "metadata": {
  "kernelspec": {
   "display_name": "Python 3 (ipykernel)",
   "language": "python",
   "name": "python3"
  },
  "language_info": {
   "codemirror_mode": {
    "name": "ipython",
    "version": 3
   },
   "file_extension": ".py",
   "mimetype": "text/x-python",
   "name": "python",
   "nbconvert_exporter": "python",
   "pygments_lexer": "ipython3",
   "version": "3.8.10"
  },
  "vscode": {
   "interpreter": {
    "hash": "369f2c481f4da34e4445cda3fffd2e751bd1c4d706f27375911949ba6bb62e1c"
   }
  }
 },
 "nbformat": 4,
 "nbformat_minor": 5
}

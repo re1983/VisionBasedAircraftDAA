{
 "cells": [
  {
   "cell_type": "markdown",
   "id": "9de6c623",
   "metadata": {},
   "source": [
    "# Visual DAA Bounding Box Tuning\n",
    "## Setup"
   ]
  },
  {
   "cell_type": "code",
   "execution_count": 59,
   "id": "a4fe16e7",
   "metadata": {},
   "outputs": [],
   "source": [
    "import ipywidgets as widgets\n",
    "from ipywidgets import interact\n",
    "import numpy as np\n",
    "import matplotlib.pyplot as plt\n",
    "import matplotlib.patches as patches\n",
    "import os\n",
    "import cv2"
   ]
  },
  {
   "cell_type": "code",
   "execution_count": 60,
   "id": "e676c0fa",
   "metadata": {},
   "outputs": [],
   "source": [
    "# USER-INPUTED\n",
    "DATASET_NAME = \"starter_dataset\"\n",
    "\n",
    "# CONSTANTS\n",
    "PATH = os.path.join(\"../../datasets/\", DATASET_NAME, \"\")"
   ]
  },
  {
   "cell_type": "markdown",
   "id": "20a6dae3",
   "metadata": {},
   "source": [
    "#### Utility Functions"
   ]
  },
  {
   "cell_type": "code",
   "execution_count": 61,
   "id": "f17187e6",
   "metadata": {},
   "outputs": [],
   "source": [
    "def show_img_w_bb(im, xp, yp, w, h):\n",
    "    f, ax = plt.subplots()\n",
    "    f.set_figwidth(14)\n",
    "    f.set_figheight(14)\n",
    "\n",
    "    ax.imshow(im)\n",
    "\n",
    "    rect = patches.Rectangle((xp - (w / 2), yp - (h / 2)), w, h, linewidth=1, edgecolor='r', facecolor='none')\n",
    "    ax.add_patch(rect)"
   ]
  },
  {
   "cell_type": "markdown",
   "id": "337a6096",
   "metadata": {},
   "source": [
    "## Check Results of label_traffic_data"
   ]
  },
  {
   "cell_type": "code",
   "execution_count": 62,
   "id": "e2164c34",
   "metadata": {},
   "outputs": [],
   "source": [
    "def get_image_info(idx):\n",
    "    types = ['train', 'valid']\n",
    "    for t in types:\n",
    "        images = os.listdir(os.path.join(PATH, 'images', t, ''))\n",
    "        if str(idx) + \".jpg\" in images:\n",
    "            data_ims = np.array(cv2.cvtColor(cv2.imread(\n",
    "                os.path.join(PATH,'images',t,str(idx) + '.jpg')), cv2.COLOR_BGRA2BGR)[:, :, ::-1])\n",
    "            with open(os.path.join(PATH,'labels',t,str(idx) + '.txt'), \"r\") as labelfile:\n",
    "                data_txt = labelfile.readline().split(\" \")\n",
    "            return data_ims, data_txt\n",
    "    return None"
   ]
  },
  {
   "cell_type": "code",
   "execution_count": 63,
   "id": "14644f5f",
   "metadata": {},
   "outputs": [],
   "source": [
    "sh, sw, _ = cv2.imread(os.path.join(PATH,'images','train','0.jpg')).shape\n",
    " "
   ]
  },
  {
   "cell_type": "code",
   "execution_count": 64,
   "id": "1072da1a",
   "metadata": {
    "scrolled": true
   },
   "outputs": [
    {
     "data": {
      "application/vnd.jupyter.widget-view+json": {
       "model_id": "287b57d4109a4ee687fc9fcbc7b79aac",
       "version_major": 2,
       "version_minor": 0
      },
      "text/plain": [
       "interactive(children=(IntText(value=0, description='i'), Output()), _dom_classes=('widget-interact',))"
      ]
     },
     "metadata": {},
     "output_type": "display_data"
    },
    {
     "data": {
      "text/plain": [
       "<function __main__.display_yolo_data(i)>"
      ]
     },
     "execution_count": 64,
     "metadata": {},
     "output_type": "execute_result"
    }
   ],
   "source": [
    "def display_yolo_data(i):\n",
    "    data_ims, data = get_image_info(i)\n",
    "    \n",
    "    _, xcenter, ycenter, width, height = [float(d) for d in data]\n",
    "    width *= sw\n",
    "    xcenter *= sw\n",
    "    height *= sh\n",
    "    ycenter *= sh\n",
    "\n",
    "    show_img_w_bb(data_ims, xcenter, ycenter, width, height)\n",
    "    \n",
    "interact(display_yolo_data, i=widgets.IntText(value=0))"
   ]
  },
  {
   "cell_type": "code",
   "execution_count": null,
   "id": "51cc42eb",
   "metadata": {},
   "outputs": [],
   "source": []
  },
  {
   "cell_type": "code",
   "execution_count": null,
   "id": "8d33cd60",
   "metadata": {},
   "outputs": [],
   "source": []
  }
 ],
 "metadata": {
  "kernelspec": {
   "display_name": "Python 3 (ipykernel)",
   "language": "python",
   "name": "python3"
  },
  "language_info": {
   "codemirror_mode": {
    "name": "ipython",
    "version": 3
   },
   "file_extension": ".py",
   "mimetype": "text/x-python",
   "name": "python",
   "nbconvert_exporter": "python",
   "pygments_lexer": "ipython3",
   "version": "3.9.6 (default, Sep 26 2022, 11:37:49) \n[Clang 14.0.0 (clang-1400.0.29.202)]"
  },
  "vscode": {
   "interpreter": {
    "hash": "31f2aee4e71d21fbe5cf8b01ff0e069b9275f58929596ceb00d14d90e3e16cd6"
   }
  }
 },
 "nbformat": 4,
 "nbformat_minor": 5
}

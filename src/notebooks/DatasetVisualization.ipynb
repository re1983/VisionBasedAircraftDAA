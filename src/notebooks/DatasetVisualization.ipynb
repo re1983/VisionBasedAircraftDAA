{
 "cells": [
  {
   "cell_type": "markdown",
   "id": "9de6c623",
   "metadata": {},
   "source": [
    "# Visual DAA Bounding Box Tuning\n",
    "## Setup"
   ]
  },
  {
   "cell_type": "code",
   "execution_count": 7,
   "id": "a4fe16e7",
   "metadata": {},
   "outputs": [],
   "source": [
    "import ipywidgets as widgets\n",
    "from ipywidgets import interact\n",
    "import pandas as pd\n",
    "import numpy as np\n",
    "import matplotlib.pyplot as plt\n",
    "import matplotlib.patches as patches\n",
    "import json\n",
    "import os\n",
    "import cv2"
   ]
  },
  {
   "cell_type": "code",
   "execution_count": 8,
   "id": "e676c0fa",
   "metadata": {},
   "outputs": [],
   "source": [
    "# USER-INPUTED\n",
    "DATASET_NAME = \"sample\"\n",
    "\n",
    "# CONSTANTS\n",
    "PATH = os.path.join(\"../../datasets/\", DATASET_NAME, \"\")"
   ]
  },
  {
   "cell_type": "markdown",
   "id": "20a6dae3",
   "metadata": {},
   "source": [
    "#### Utility Functions"
   ]
  },
  {
   "cell_type": "code",
   "execution_count": 9,
   "id": "f17187e6",
   "metadata": {},
   "outputs": [],
   "source": [
    "def show_img_w_bb(im, xp, yp, w, h):\n",
    "    f, ax = plt.subplots()\n",
    "    f.set_figwidth(14)\n",
    "    f.set_figheight(14)\n",
    "\n",
    "    ax.imshow(im)\n",
    "\n",
    "    rect = patches.Rectangle((xp - (w / 2), yp - (h / 2)), w, h, linewidth=1, edgecolor='r', facecolor='none')\n",
    "    ax.add_patch(rect)"
   ]
  },
  {
   "cell_type": "markdown",
   "id": "337a6096",
   "metadata": {},
   "source": [
    "## Check Results of label_traffic_data"
   ]
  },
  {
   "cell_type": "code",
   "execution_count": 10,
   "id": "e2164c34",
   "metadata": {},
   "outputs": [],
   "source": [
    "def get_info(data_dir, data_ims, data_txt):\n",
    "    images = os.listdir(os.path.join(data_dir, 'images', ''))\n",
    "    for img_name in images:\n",
    "        i = int(img_name.split('.')[0])\n",
    "        data_ims[i, :, :, :] = np.array(cv2.cvtColor(cv2.imread(\n",
    "            os.path.join(data_dir,'images',str(i) + '.jpg')), cv2.COLOR_BGRA2BGR)[:, :, ::-1])\n",
    "        with open(os.path.join(data_dir,'labels',str(i) + '.txt'), \"r\") as labelfile:\n",
    "            data_txt[i] = labelfile.readline().split(\" \")\n",
    "    return data_ims, data_txt"
   ]
  },
  {
   "cell_type": "code",
   "execution_count": 11,
   "id": "14644f5f",
   "metadata": {},
   "outputs": [],
   "source": [
    "sh, sw, _ = cv2.imread(os.path.join(PATH,'train','images','0.jpg')).shape\n",
    "meta_file = os.path.join(PATH,\"metadata.json\")\n",
    "with open(meta_file, \"r\") as outfile:\n",
    "    metadata = json.load(outfile)\n",
    "    \n",
    "total_images = metadata['total_images']\n",
    "data_ims = np.zeros((total_images, sh, sw, 3), dtype=int)\n",
    "data_txt = np.zeros((total_images, 5))\n",
    "\n",
    "\n",
    "data_ims, data_txt = get_info(os.path.join(PATH,'train',''), data_ims, data_txt)\n",
    "data_ims, data_txt = get_info(os.path.join(PATH,'valid',''), data_ims, data_txt)\n",
    " "
   ]
  },
  {
   "cell_type": "code",
   "execution_count": 12,
   "id": "1072da1a",
   "metadata": {},
   "outputs": [
    {
     "data": {
      "application/vnd.jupyter.widget-view+json": {
       "model_id": "e8858f81dfb44611ab781e94d920201f",
       "version_major": 2,
       "version_minor": 0
      },
      "text/plain": [
       "interactive(children=(IntText(value=0, description='i'), Output()), _dom_classes=('widget-interact',))"
      ]
     },
     "metadata": {},
     "output_type": "display_data"
    },
    {
     "data": {
      "text/plain": [
       "<function __main__.display_yolo_data(i)>"
      ]
     },
     "execution_count": 12,
     "metadata": {},
     "output_type": "execute_result"
    }
   ],
   "source": [
    "def display_yolo_data(i):\n",
    "    data = data_txt[i]\n",
    "    \n",
    "    _, xcenter, ycenter, width, height = [float(d) for d in data]\n",
    "    width *= sw\n",
    "    xcenter *= sw\n",
    "    height *= sh\n",
    "    ycenter *= sh\n",
    "    show_img_w_bb(data_ims[i, :, :, :], xcenter, ycenter, width, height)\n",
    "    \n",
    "interact(display_yolo_data, i=widgets.IntText(value=0))"
   ]
  },
  {
   "cell_type": "code",
   "execution_count": null,
   "id": "51cc42eb",
   "metadata": {},
   "outputs": [],
   "source": []
  }
 ],
 "metadata": {
  "kernelspec": {
   "display_name": "Python 3 (ipykernel)",
   "language": "python",
   "name": "python3"
  },
  "language_info": {
   "codemirror_mode": {
    "name": "ipython",
    "version": 3
   },
   "file_extension": ".py",
   "mimetype": "text/x-python",
   "name": "python",
   "nbconvert_exporter": "python",
   "pygments_lexer": "ipython3",
   "version": "3.9.6"
  },
  "vscode": {
   "interpreter": {
    "hash": "31f2aee4e71d21fbe5cf8b01ff0e069b9275f58929596ceb00d14d90e3e16cd6"
   }
  }
 },
 "nbformat": 4,
 "nbformat_minor": 5
}

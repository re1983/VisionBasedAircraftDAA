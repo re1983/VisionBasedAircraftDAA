{
 "cells": [
  {
   "cell_type": "markdown",
   "id": "9de6c623",
   "metadata": {},
   "source": [
    "# Visual DAA Bounding Box Tuning\n",
    "## Setup"
   ]
  },
  {
   "cell_type": "code",
   "execution_count": 1,
   "id": "a4fe16e7",
   "metadata": {},
   "outputs": [],
   "source": [
    "import ipywidgets as widgets\n",
    "from ipywidgets import interact\n",
    "import pandas as pd\n",
    "import numpy as np\n",
    "import matplotlib.pyplot as plt\n",
    "import matplotlib.patches as patches\n",
    "import cv2\n",
    "from mpl_toolkits.axes_grid1 import ImageGrid\n",
    "import json"
   ]
  },
  {
   "cell_type": "markdown",
   "id": "d2e9c859",
   "metadata": {},
   "source": [
    "#### Data and Image Import"
   ]
  },
  {
   "cell_type": "code",
   "execution_count": 2,
   "id": "a4c93295",
   "metadata": {},
   "outputs": [],
   "source": [
    "df = pd.read_csv('../datasets/state_data.csv')\n",
    "sh, sw, _ = cv2.imread('../datasets/imgs/0.jpg').shape\n",
    "data_ims = np.zeros((50, sh, sw, 3), dtype=int)\n",
    "# load hfov and vfov\n",
    "with open('metadata.json','r') as datafile:\n",
    "    metadata = json.load(datafile)\n",
    "hfov = metadata[\"hfov\"]\n",
    "vfov = metadata[\"vfov\"]\n",
    "for i in range(10):\n",
    "    data_ims[i, :, :, :] = np.array(cv2.cvtColor(cv2.imread(\n",
    "        '../datasets/imgs/' + str(i) + '.jpg'), cv2.COLOR_BGRA2BGR)[:, :, ::-1])"
   ]
  },
  {
   "cell_type": "markdown",
   "id": "20a6dae3",
   "metadata": {},
   "source": [
    "#### Utility Functions"
   ]
  },
  {
   "cell_type": "code",
   "execution_count": 3,
   "id": "a51b809b",
   "metadata": {},
   "outputs": [],
   "source": [
    "def get_bb_size(e0, n0, u0, e1, n1, u1, aw0=0, daw=1):\n",
    "    x = n1 - n0\n",
    "    y = -(e1 - e0) # right-handed coordinates\n",
    "    z = u1 - u0\n",
    "    print(f\"{x}, {y}, {z}\")\n",
    "    \n",
    "    # Get height and width of bounding box\n",
    "    r = np.sqrt(x ** 2 + y ** 2 + z ** 2)\n",
    "    w = daw * (1 / r) + aw0\n",
    "    h = (3 / 8) * w\n",
    "    print(f\"{w}, {h}\")\n",
    "    return h, w"
   ]
  },
  {
   "cell_type": "code",
   "execution_count": 4,
   "id": "f17187e6",
   "metadata": {},
   "outputs": [],
   "source": [
    "def show_img_w_bb(im, xp, yp, w, h):\n",
    "    f, ax = plt.subplots()\n",
    "    f.set_figwidth(14)\n",
    "    f.set_figheight(14)\n",
    "\n",
    "    ax.imshow(im)\n",
    "\n",
    "    rect = patches.Rectangle((xp - (w / 2), yp - (h / 2)), w, h, linewidth=1, edgecolor='r', facecolor='none')\n",
    "    ax.add_patch(rect)"
   ]
  },
  {
   "cell_type": "markdown",
   "id": "9c06bd8b",
   "metadata": {},
   "source": [
    "## View and Tune Bounding Boxes\n",
    "aw0 and daw tune the size of the bounding box"
   ]
  },
  {
   "cell_type": "code",
   "execution_count": 6,
   "id": "06b7f568",
   "metadata": {
    "scrolled": false
   },
   "outputs": [
    {
     "data": {
      "application/vnd.jupyter.widget-view+json": {
       "model_id": "a67bf071f471433793798eaa6d57b616",
       "version_major": 2,
       "version_minor": 0
      },
      "text/plain": [
       "interactive(children=(IntText(value=0, description='i'), FloatSlider(value=0.0, description='aw0', max=10.0, m…"
      ]
     },
     "metadata": {},
     "output_type": "display_data"
    },
    {
     "data": {
      "text/plain": [
       "<function __main__.data_interact_bb(i, aw0, daw, offset)>"
      ]
     },
     "execution_count": 6,
     "metadata": {},
     "output_type": "execute_result"
    }
   ],
   "source": [
    "def data_interact_bb(i, aw0, daw, offset):\n",
    "    xp, yp = df['intr_x'][i], df['intr_y'][i]+offset\n",
    "    h, w = get_bb_size(df['e0'][i], df['n0'][i], df['u0'][i], df['e1'][i], df['n1'][i], df['u1'][i], aw0=aw0, daw=daw)\n",
    "    show_img_w_bb(data_ims[i, :, :, :], xp, yp, w, h)\n",
    "\n",
    "interact(data_interact_bb,\n",
    "         aw0=widgets.FloatSlider(min=-10, max=10, step=1, value=0),\n",
    "         daw=widgets.FloatSlider(min=13000, max=18000, step=200, value=18000),\n",
    "         offset=widgets.FloatSlider(min=-100, max=100, step=1, value=-36),\n",
    "         i=widgets.IntText(value=0))"
   ]
  },
  {
   "cell_type": "markdown",
   "id": "820e88dc",
   "metadata": {},
   "source": [
    "#### Graveyard"
   ]
  },
  {
   "cell_type": "code",
   "execution_count": 81,
   "id": "c86bf820",
   "metadata": {},
   "outputs": [
    {
     "data": {
      "text/plain": [
       "'\\ndef get_bounding_box2(e0, n0, u0, h0, e1, n1, u1, p0, tilt=0, hfov=80, vfov=50.25, offset=0, aw0=0, daw=1):\\n\\n    # Make ownship be the origin\\n    x = n1 - n0\\n    y = -(e1 - e0) # right-handed coordinates\\n    z = u1 - u0\\n\\n    # Rotate x and y according to ownship heading\\n    xrot = x * cosd(h0) - y * sind(h0)\\n    yrot = -(x * sind(h0) + y * cosd(h0))\\n\\n    # Account for offset\\n    z = z + offset\\n\\n    # Rotate z according to tilt angle\\n    xcam = xrot * cosd(tilt) - z * sind(tilt)\\n    ycam = yrot\\n    zcam = xrot * sind(tilt) + z * cosd(tilt)\\n\\n    # https://www.youtube.com/watch?v=LhQ85bPCAJ8\\n    xp = ycam / (xcam * tand(hfov / 2))\\n    yp = zcam / (xcam * tand(vfov / 2))\\n\\n    # Get xp and yp between 0 and 1\\n    xp = (xp + 1) / 2\\n    yp = (yp + 1) / 2\\n\\n    # Map to pixel location\\n    xp = xp * sw\\n    yp = (1 - yp) * sh\\n    \\n    print(f\"{x}, {y}, {z}\")\\n\\n    # Get height and width of bounding box\\n    r = np.sqrt(x ** 2 + y ** 2 + z ** 2)\\n    w = daw * (1 / r) + aw0\\n    h = (3 / 8) * w\\n    print(f\"{w}, {h}\")\\n\\n    # print(r)\\n    #print(f\"{xp}, {yp}, {w}, {h}\")\\n    return xp, yp, w, h'"
      ]
     },
     "execution_count": 81,
     "metadata": {},
     "output_type": "execute_result"
    }
   ],
   "source": [
    "    \n",
    "'''\n",
    "def get_bounding_box2(e0, n0, u0, h0, e1, n1, u1, p0, tilt=0, hfov=80, vfov=50.25, offset=0, aw0=0, daw=1):\n",
    "\n",
    "    # Make ownship be the origin\n",
    "    x = n1 - n0\n",
    "    y = -(e1 - e0) # right-handed coordinates\n",
    "    z = u1 - u0\n",
    "\n",
    "    # Rotate x and y according to ownship heading\n",
    "    xrot = x * cosd(h0) - y * sind(h0)\n",
    "    yrot = -(x * sind(h0) + y * cosd(h0))\n",
    "\n",
    "    # Account for offset\n",
    "    z = z + offset\n",
    "\n",
    "    # Rotate z according to tilt angle\n",
    "    xcam = xrot * cosd(tilt) - z * sind(tilt)\n",
    "    ycam = yrot\n",
    "    zcam = xrot * sind(tilt) + z * cosd(tilt)\n",
    "\n",
    "    # https://www.youtube.com/watch?v=LhQ85bPCAJ8\n",
    "    xp = ycam / (xcam * tand(hfov / 2))\n",
    "    yp = zcam / (xcam * tand(vfov / 2))\n",
    "\n",
    "    # Get xp and yp between 0 and 1\n",
    "    xp = (xp + 1) / 2\n",
    "    yp = (yp + 1) / 2\n",
    "\n",
    "    # Map to pixel location\n",
    "    xp = xp * sw\n",
    "    yp = (1 - yp) * sh\n",
    "    \n",
    "    print(f\"{x}, {y}, {z}\")\n",
    "\n",
    "    # Get height and width of bounding box\n",
    "    r = np.sqrt(x ** 2 + y ** 2 + z ** 2)\n",
    "    w = daw * (1 / r) + aw0\n",
    "    h = (3 / 8) * w\n",
    "    print(f\"{w}, {h}\")\n",
    "\n",
    "    # print(r)\n",
    "    #print(f\"{xp}, {yp}, {w}, {h}\")\n",
    "    return xp, yp, w, h'''"
   ]
  },
  {
   "cell_type": "code",
   "execution_count": 82,
   "id": "06983be6",
   "metadata": {},
   "outputs": [],
   "source": [
    "def cosd(x):\n",
    "    return np.cos(x * np.pi / 180)\n",
    "\n",
    "def sind(x):\n",
    "    return np.sin(x * np.pi / 180)\n",
    "\n",
    "def tand(x):\n",
    "    return np.tan(x * np.pi / 180)"
   ]
  },
  {
   "cell_type": "code",
   "execution_count": null,
   "id": "fa09fd33",
   "metadata": {},
   "outputs": [],
   "source": []
  }
 ],
 "metadata": {
  "kernelspec": {
   "display_name": "Python 3 (ipykernel)",
   "language": "python",
   "name": "python3"
  },
  "language_info": {
   "codemirror_mode": {
    "name": "ipython",
    "version": 3
   },
   "file_extension": ".py",
   "mimetype": "text/x-python",
   "name": "python",
   "nbconvert_exporter": "python",
   "pygments_lexer": "ipython3",
   "version": "3.9.2"
  },
  "vscode": {
   "interpreter": {
    "hash": "369f2c481f4da34e4445cda3fffd2e751bd1c4d706f27375911949ba6bb62e1c"
   }
  }
 },
 "nbformat": 4,
 "nbformat_minor": 5
}
